{
 "cells": [
  {
   "cell_type": "markdown",
   "id": "c00a280e",
   "metadata": {},
   "source": [
    "# Data Analysis with Passengers Array\n"
   ]
  },
  {
   "cell_type": "markdown",
   "id": "84e2dbc2",
   "metadata": {},
   "source": [
    "\n",
    "Here is an array filled with real data from 50 of the passengers.\n",
    "\n",
    "The columns represent the following data:\n",
    "*   **Column 0:** Passenger ID (1 to 50)\n",
    "*   **Column 1:** Survived (0 for no, 1 for yes)\n",
    "*   **Column 2:** Passenger class (1 for Upper, 2 for Middle, 3 for Lower)\n",
    "*   **Column 3:** Age (0-74)\n",
    "\n"
   ]
  },
  {
   "cell_type": "code",
   "execution_count": null,
   "id": "ec618c4f",
   "metadata": {},
   "outputs": [],
   "source": [
    "import numpy as np\n",
    "\n",
    "passengers = np.array([\n",
    "    [1, 0, 3, 22], [2, 1, 1, 38], [3, 1, 3, 26], [4, 1, 1, 35], [5, 0, 3, 35],\n",
    "    [6, 0, 3, 18], [7, 0, 1, 54], [8, 0, 3, 2], [9, 1, 3, 27], [10, 1, 2, 14],\n",
    "    [11, 1, 3, 4], [12, 1, 1, 58], [13, 0, 3, 20], [14, 0, 3, 39], [15, 0, 3, 14],\n",
    "    [16, 1, 2, 55], [17, 0, 3, 2], [18, 1, 2, 12], [19, 0, 3, 31], [20, 1, 3, 8],\n",
    "    [21, 0, 2, 35], [22, 1, 2, 34], [23, 1, 3, 15], [24, 1, 1, 28], [25, 0, 3, 8],\n",
    "    [26, 1, 3, 38], [27, 0, 3, 2], [28, 0, 1, 1], [29, 1, 3, 5], [30, 0, 3, 18],\n",
    "    [31, 0, 1, 40], [32, 1, 1, 70], [33, 1, 3, 33], [34, 0, 2, 66], [35, 0, 1, 28],\n",
    "    [36, 0, 1, 42], [37, 1, 3, 5], [38, 0, 3, 18], [39, 0, 3, 18], [40, 1, 3, 14],\n",
    "    [41, 0, 3, 40], [42, 0, 2, 27], [43, 0, 3, 29], [44, 1, 2, 0], [45, 1, 3, 19],\n",
    "    [46, 0, 3, 33], [47, 0, 3, 14], [48, 1, 3, 22], [49, 0, 3, 41], [50, 0, 3, 18]\n",
    "])\n"
   ]
  },
  {
   "cell_type": "markdown",
   "id": "c5ae1407",
   "metadata": {},
   "source": [
    "## Analysis Questions\n",
    "\n",
    "As a data analyst, your job is to find the following information:\n",
    "\n",
    "**Core Questions:**\n",
    "1.  **Array Shape:** What is the shape of this array?\n",
    "2.  **Average Age:** What is the average age of all the passengers?\n",
    "3.  **Oldest & Youngest:** What are the passenger numbers of the oldest and youngest passengers?\n",
    "4.  **Overall Survival:** What is the overall percentage of folks that survived?\n",
    "\n",
    "**Conditional Survival Analysis:**\n",
    "5.  What is the percentage of folks that survived based on their passenger class?\n",
    "    *   Upper Class (1)\n",
    "    *   Middle Class (2)\n",
    "    *   Lower Class (3)\n"
   ]
  },
  {
   "cell_type": "markdown",
   "id": "ce1b3066",
   "metadata": {},
   "source": []
  }
 ],
 "metadata": {
  "kernelspec": {
   "display_name": "Python 3",
   "language": "python",
   "name": "python3"
  },
  "language_info": {
   "codemirror_mode": {
    "name": "ipython",
    "version": 3
   },
   "file_extension": ".py",
   "mimetype": "text/x-python",
   "name": "python",
   "nbconvert_exporter": "python",
   "pygments_lexer": "ipython3",
   "version": "3.14.0"
  }
 },
 "nbformat": 4,
 "nbformat_minor": 5
}
