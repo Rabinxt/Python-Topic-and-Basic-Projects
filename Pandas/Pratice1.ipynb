{
 "cells": [
  {
   "cell_type": "markdown",
   "id": "2145dc48",
   "metadata": {},
   "source": [
    "## Attributes , Methods and Functions"
   ]
  },
  {
   "cell_type": "markdown",
   "id": "e98a0ea2",
   "metadata": {},
   "source": [
    "Attributes"
   ]
  },
  {
   "cell_type": "code",
   "execution_count": null,
   "id": "84f814a1",
   "metadata": {},
   "outputs": [],
   "source": [
    "#Getting acess to shape attributes "
   ]
  }
 ],
 "metadata": {
  "kernelspec": {
   "display_name": "Python 3",
   "language": "python",
   "name": "python3"
  },
  "language_info": {
   "codemirror_mode": {
    "name": "ipython",
    "version": 3
   },
   "file_extension": ".py",
   "mimetype": "text/x-python",
   "name": "python",
   "nbconvert_exporter": "python",
   "pygments_lexer": "ipython3",
   "version": "3.14.0"
  }
 },
 "nbformat": 4,
 "nbformat_minor": 5
}
