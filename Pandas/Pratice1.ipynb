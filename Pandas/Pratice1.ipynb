{
 "cells": [
  {
   "cell_type": "markdown",
   "id": "2145dc48",
   "metadata": {},
   "source": [
    "## Attributes , Methods and Functions"
   ]
  },
  {
   "cell_type": "markdown",
   "id": "e98a0ea2",
   "metadata": {},
   "source": [
    "Attributes"
   ]
  },
  {
   "cell_type": "code",
   "execution_count": 1,
   "id": "84f814a1",
   "metadata": {},
   "outputs": [],
   "source": [
    "import pandas as pd \n",
    "import numpy as np"
   ]
  },
  {
   "cell_type": "code",
   "execution_count": 2,
   "id": "4d969d0b",
   "metadata": {},
   "outputs": [
    {
     "data": {
      "text/plain": [
       "(1000, 8)"
      ]
     },
     "execution_count": 2,
     "metadata": {},
     "output_type": "execute_result"
    }
   ],
   "source": [
    "#Getting acess to shape attributes\n",
    "df_exams = pd.read_csv('StudentsPerformance.csv')\n",
    "df_exams.shape"
   ]
  },
  {
   "cell_type": "code",
   "execution_count": null,
   "id": "ea5f71e7",
   "metadata": {},
   "outputs": [
    {
     "data": {
      "text/plain": [
       "RangeIndex(start=0, stop=1000, step=1)"
      ]
     },
     "execution_count": 7,
     "metadata": {},
     "output_type": "execute_result"
    }
   ],
   "source": [
    "#Getting acess to index attributes\n",
    "df_exams.index"
   ]
  },
  {
   "cell_type": "code",
   "execution_count": null,
   "id": "f0c86c49",
   "metadata": {},
   "outputs": [],
   "source": [
    "#Getting acess to column attribute\n",
    "df_exams.columns"
   ]
  },
  {
   "cell_type": "code",
   "execution_count": null,
   "id": "1a298c08",
   "metadata": {},
   "outputs": [],
   "source": [
    "#Data Types Attributes\n",
    "df_exams.dtypes"
   ]
  },
  {
   "cell_type": "markdown",
   "id": "aee0e4de",
   "metadata": {},
   "source": [
    "##Methods"
   ]
  },
  {
   "cell_type": "code",
   "execution_count": null,
   "id": "a2b0892e",
   "metadata": {},
   "outputs": [],
   "source": [
    "#Info\n",
    "df_exams.info()"
   ]
  },
  {
   "cell_type": "code",
   "execution_count": null,
   "id": "5f79c27c",
   "metadata": {},
   "outputs": [],
   "source": [
    "df_exams.describe()"
   ]
  },
  {
   "cell_type": "markdown",
   "id": "d8162665",
   "metadata": {},
   "source": [
    "Functions"
   ]
  },
  {
   "cell_type": "code",
   "execution_count": 4,
   "id": "300cfcf3",
   "metadata": {},
   "outputs": [
    {
     "data": {
      "text/plain": [
       "1000"
      ]
     },
     "execution_count": 4,
     "metadata": {},
     "output_type": "execute_result"
    }
   ],
   "source": [
    "#length of dataframe\n",
    "len(df_exams)"
   ]
  },
  {
   "cell_type": "code",
   "execution_count": 6,
   "id": "3b1f710f",
   "metadata": {},
   "outputs": [
    {
     "data": {
      "text/plain": [
       "999"
      ]
     },
     "execution_count": 6,
     "metadata": {},
     "output_type": "execute_result"
    }
   ],
   "source": [
    "#higest index of the dataframe\n",
    "max(df_exams.index)"
   ]
  },
  {
   "cell_type": "code",
   "execution_count": 7,
   "id": "2f964549",
   "metadata": {},
   "outputs": [
    {
     "data": {
      "text/plain": [
       "0"
      ]
     },
     "execution_count": 7,
     "metadata": {},
     "output_type": "execute_result"
    }
   ],
   "source": [
    "#lowest index in dataframe \n",
    "min(df_exams.index)"
   ]
  },
  {
   "cell_type": "code",
   "execution_count": 9,
   "id": "4d9e6ece",
   "metadata": {},
   "outputs": [
    {
     "data": {
      "text/plain": [
       "pandas.core.frame.DataFrame"
      ]
     },
     "execution_count": 9,
     "metadata": {},
     "output_type": "execute_result"
    }
   ],
   "source": [
    "#obtaining type of dataframe\n",
    "type(df_exams)"
   ]
  },
  {
   "cell_type": "code",
   "execution_count": null,
   "id": "a975afaf",
   "metadata": {},
   "outputs": [],
   "source": [
    "#rounding \n",
    "round(df_exams , 2)"
   ]
  },
  {
   "cell_type": "markdown",
   "id": "8e64bb8c",
   "metadata": {},
   "source": [
    "## Selecting one Column"
   ]
  },
  {
   "cell_type": "code",
   "execution_count": null,
   "id": "aa80353d",
   "metadata": {},
   "outputs": [],
   "source": [
    "#select a column with [](prefered way of selecting)\n",
    "df_exams['gender']"
   ]
  },
  {
   "cell_type": "code",
   "execution_count": null,
   "id": "9764aa01",
   "metadata": {},
   "outputs": [],
   "source": [
    "#check datatype of a column\n",
    "type(df_exams['gender'])"
   ]
  },
  {
   "cell_type": "code",
   "execution_count": null,
   "id": "634ed928",
   "metadata": {},
   "outputs": [],
   "source": [
    "#series: attributes and methods\n",
    "df_exams['gender'].index\n",
    "df_exams['gender'].head(5)"
   ]
  },
  {
   "cell_type": "markdown",
   "id": "b29991a9",
   "metadata": {},
   "source": [
    "# Syntax 2"
   ]
  },
  {
   "cell_type": "code",
   "execution_count": null,
   "id": "4655ff7c",
   "metadata": {},
   "outputs": [],
   "source": [
    "#select a column with .\n",
    "df_exams.gender"
   ]
  },
  {
   "cell_type": "code",
   "execution_count": null,
   "id": "8ba7698d",
   "metadata": {},
   "outputs": [],
   "source": [
    "#select a column with . (pitfalls)\n",
    "df_exams.math score"
   ]
  },
  {
   "cell_type": "code",
   "execution_count": null,
   "id": "9cb87800",
   "metadata": {},
   "outputs": [],
   "source": [
    "#Select same column using []\n",
    "df_exams['math score']"
   ]
  },
  {
   "cell_type": "markdown",
   "id": "74e52350",
   "metadata": {},
   "source": [
    "1 Selecting two or more column"
   ]
  },
  {
   "cell_type": "code",
   "execution_count": null,
   "id": "8c89fa5e",
   "metadata": {},
   "outputs": [],
   "source": [
    "#Selecting 2 columns using [[]]\n",
    "df_exams[['gender','math score']]"
   ]
  },
  {
   "cell_type": "code",
   "execution_count": 22,
   "id": "14e19588",
   "metadata": {},
   "outputs": [
    {
     "data": {
      "text/plain": [
       "pandas.core.frame.DataFrame"
      ]
     },
     "execution_count": 22,
     "metadata": {},
     "output_type": "execute_result"
    }
   ],
   "source": [
    "#check datatype of selection\n",
    "type(df_exams[['gender','math score']])"
   ]
  },
  {
   "cell_type": "code",
   "execution_count": null,
   "id": "8a9cade7",
   "metadata": {},
   "outputs": [],
   "source": [
    "#select 2 or more columns using [[]]\n",
    "df_exams[['gender', 'math score', 'reading score', 'writing score']]"
   ]
  },
  {
   "cell_type": "code",
   "execution_count": null,
   "id": "a1409663",
   "metadata": {},
   "outputs": [],
   "source": [
    "#We can't select 2 or more column with '.'"
   ]
  },
  {
   "cell_type": "markdown",
   "id": "f84a8420",
   "metadata": {},
   "source": [
    "## Add new column to a DataFrame"
   ]
  },
  {
   "cell_type": "markdown",
   "id": "18222d58",
   "metadata": {},
   "source": [
    "### 1.1 Adding a new column with scaler value"
   ]
  },
  {
   "cell_type": "code",
   "execution_count": null,
   "id": "46c15f55",
   "metadata": {},
   "outputs": [],
   "source": [
    "#adding new column to a dataframe\n",
    "df_exams['language score'] = 70\n",
    "df_exams"
   ]
  },
  {
   "cell_type": "markdown",
   "id": "697ca55c",
   "metadata": {},
   "source": [
    "### 1.2 Adding new column with an array"
   ]
  },
  {
   "cell_type": "markdown",
   "id": "7697c58d",
   "metadata": {},
   "source": [
    " The dataframe has 1000 rows, so we need to create an array with 1000 elements"
   ]
  },
  {
   "cell_type": "code",
   "execution_count": 27,
   "id": "a552c2e2",
   "metadata": {},
   "outputs": [],
   "source": [
    "#import numpy\n",
    "#create an array of 1000 elements\n",
    "language_score = np.arange(0,1000)"
   ]
  },
  {
   "cell_type": "code",
   "execution_count": 28,
   "id": "928057ee",
   "metadata": {},
   "outputs": [
    {
     "data": {
      "text/plain": [
       "1000"
      ]
     },
     "execution_count": 28,
     "metadata": {},
     "output_type": "execute_result"
    }
   ],
   "source": [
    "#length of array \n",
    "len(language_score)"
   ]
  },
  {
   "cell_type": "code",
   "execution_count": null,
   "id": "82d1cd19",
   "metadata": {},
   "outputs": [],
   "source": [
    "#adding a new column to dataframe with an array \n",
    "df_exams['language score'] = language_score\n",
    "df_exams"
   ]
  },
  {
   "cell_type": "code",
   "execution_count": 35,
   "id": "e73c6226",
   "metadata": {},
   "outputs": [],
   "source": [
    "#create a random integer numbers between 1 and 100\n",
    "int_language_score = np.random.randint(1,100 , size=1000)"
   ]
  },
  {
   "cell_type": "code",
   "execution_count": 36,
   "id": "6e61ab1b",
   "metadata": {},
   "outputs": [
    {
     "data": {
      "text/plain": [
       "np.int32(99)"
      ]
     },
     "execution_count": 36,
     "metadata": {},
     "output_type": "execute_result"
    }
   ],
   "source": [
    "#min value inclusive and high value exclusive\n",
    "min(int_language_score)\n",
    "max(int_language_score)"
   ]
  },
  {
   "cell_type": "code",
   "execution_count": null,
   "id": "961f4855",
   "metadata": {},
   "outputs": [],
   "source": [
    "#adding new column to a dataframe with an array\n",
    "df_exams['language score'] = int_language_score\n",
    "df_exams"
   ]
  },
  {
   "cell_type": "code",
   "execution_count": null,
   "id": "49574567",
   "metadata": {},
   "outputs": [],
   "source": [
    "#create random float numbers between 1 and 100\n",
    "np.random.uniform(1,100, size = 100)"
   ]
  },
  {
   "cell_type": "markdown",
   "id": "47693b17",
   "metadata": {},
   "source": [
    "### 1.1 assign()"
   ]
  },
  {
   "cell_type": "code",
   "execution_count": 41,
   "id": "98b05f68",
   "metadata": {},
   "outputs": [],
   "source": [
    "#create random numbers for our new score columns\n",
    "score1 = np.random.randint(1,100,size = 1000)\n",
    "score2 = np.random.randint(1,100,size = 1000)"
   ]
  },
  {
   "cell_type": "code",
   "execution_count": 43,
   "id": "56107a07",
   "metadata": {},
   "outputs": [],
   "source": [
    "series1 = pd.Series(score1 , index=np.arange(0,1000))\n",
    "series2 = pd.Series(score2 , index=np.arange(0,1000))"
   ]
  },
  {
   "cell_type": "code",
   "execution_count": null,
   "id": "5b348650",
   "metadata": {},
   "outputs": [],
   "source": [
    "#using assign() to add multiple columns\n",
    "df_exams.assign(score1=series1, score2=series2)"
   ]
  },
  {
   "cell_type": "markdown",
   "id": "d87276ef",
   "metadata": {},
   "source": [
    "### 1.2 insert()"
   ]
  },
  {
   "cell_type": "code",
   "execution_count": 45,
   "id": "ae4bc44c",
   "metadata": {},
   "outputs": [],
   "source": [
    "#using index() to add a column at specific position\n",
    "#csvfile.insert(index, 'name of new column', array of values)\n",
    "df_exams.insert(1,'test', series1)"
   ]
  },
  {
   "cell_type": "code",
   "execution_count": null,
   "id": "4f188b82",
   "metadata": {},
   "outputs": [],
   "source": []
  }
 ],
 "metadata": {
  "kernelspec": {
   "display_name": "Python 3",
   "language": "python",
   "name": "python3"
  },
  "language_info": {
   "codemirror_mode": {
    "name": "ipython",
    "version": 3
   },
   "file_extension": ".py",
   "mimetype": "text/x-python",
   "name": "python",
   "nbconvert_exporter": "python",
   "pygments_lexer": "ipython3",
   "version": "3.14.0"
  }
 },
 "nbformat": 4,
 "nbformat_minor": 5
}
