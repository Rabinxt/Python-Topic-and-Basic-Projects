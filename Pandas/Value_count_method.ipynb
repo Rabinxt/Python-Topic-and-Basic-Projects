{
 "cells": [
  {
   "cell_type": "code",
   "execution_count": null,
   "id": "d93e6805",
   "metadata": {},
   "outputs": [],
   "source": [
    "import pandas as pd"
   ]
  },
  {
   "cell_type": "code",
   "execution_count": null,
   "id": "2e640784",
   "metadata": {},
   "outputs": [],
   "source": [
    "#reading csv file\n",
    "df_exams = pd.read_csv('StudentsPerformance.csv')\n",
    "df_exams"
   ]
  },
  {
   "cell_type": "markdown",
   "id": "ec0b30eb",
   "metadata": {},
   "source": [
    "### 1 Value Counts"
   ]
  },
  {
   "cell_type": "code",
   "execution_count": null,
   "id": "5a7b622b",
   "metadata": {},
   "outputs": [],
   "source": [
    "#counting gender elements\n",
    "\n",
    "#len functions"
   ]
  }
 ],
 "metadata": {
  "kernelspec": {
   "display_name": "Python 3",
   "language": "python",
   "name": "python3"
  },
  "language_info": {
   "codemirror_mode": {
    "name": "ipython",
    "version": 3
   },
   "file_extension": ".py",
   "mimetype": "text/x-python",
   "name": "python",
   "nbconvert_exporter": "python",
   "pygments_lexer": "ipython3",
   "version": "3.14.0"
  }
 },
 "nbformat": 4,
 "nbformat_minor": 5
}
